{
 "cells": [
  {
   "cell_type": "code",
   "execution_count": 1,
   "metadata": {},
   "outputs": [],
   "source": [
    "import pandas as pd\n",
    "import json\n",
    "import os"
   ]
  },
  {
   "cell_type": "markdown",
   "metadata": {},
   "source": [
    "#### Import dataset"
   ]
  },
  {
   "cell_type": "code",
   "execution_count": 2,
   "metadata": {},
   "outputs": [],
   "source": [
    "repository_dir = \"../../../../..\"\n",
    "dataset_dir = \"datasets/source/processed/Guardian_Kaggle_Combined_Dataset.csv\"\n",
    "repository_dir = os.path.abspath(repository_dir)\n",
    "dataset_dir = os.path.join(repository_dir, dataset_dir)\n",
    "\n",
    "df = pd.read_csv(dataset_dir)"
   ]
  },
  {
   "cell_type": "markdown",
   "metadata": {},
   "source": [
    "#### Import LLM sentiment analysis model output"
   ]
  },
  {
   "cell_type": "code",
   "execution_count": 3,
   "metadata": {},
   "outputs": [],
   "source": [
    "model_output_dir = \"datasets/engineered_features/sentiment_extraction/llm_match_prediction_sentiment_analysis/model_output/sentiment-analysis_gpt-4o-mini_prompt-v3.json\"\n",
    "model_output_dir = os.path.join(repository_dir, model_output_dir)\n",
    "\n",
    "with open(model_output_dir, 'r') as f:\n",
    "    model_output_json = json.load(f)"
   ]
  },
  {
   "cell_type": "markdown",
   "metadata": {},
   "source": [
    "#### Add LLM sentiment analysis to dataset"
   ]
  },
  {
   "cell_type": "code",
   "execution_count": 4,
   "metadata": {},
   "outputs": [],
   "source": [
    "def scale(value, min_val=1, max_val=5):\n",
    "    return (value - min_val) / (max_val - min_val)\n",
    "\n",
    "df['LLM_Sentiment_Analysis_GPT4o_Pv3'] = df['MatchID'].apply(lambda x: scale(sum(map(int, model_output_json[str(x)])) / len(model_output_json[str(x)])))\n",
    "\n",
    "df = df[['MatchID', 'LLM_Sentiment_Analysis_GPT4o_Pv3']]"
   ]
  },
  {
   "cell_type": "markdown",
   "metadata": {},
   "source": [
    "#### Save dataset"
   ]
  },
  {
   "cell_type": "code",
   "execution_count": 5,
   "metadata": {},
   "outputs": [],
   "source": [
    "dataset_dir = \"datasets/engineered_features/sentiment_extraction/llm_match_prediction_sentiment_analysis/processed/LLM_Sentiment_Analysis_GPT4o_Pv3.csv\"\n",
    "dataset_dir = os.path.join(repository_dir, dataset_dir)\n",
    "\n",
    "df.to_csv(dataset_dir, index=False)"
   ]
  },
  {
   "cell_type": "markdown",
   "metadata": {},
   "source": []
  }
 ],
 "metadata": {
  "kernelspec": {
   "display_name": "Python 3",
   "language": "python",
   "name": "python3"
  },
  "language_info": {
   "codemirror_mode": {
    "name": "ipython",
    "version": 3
   },
   "file_extension": ".py",
   "mimetype": "text/x-python",
   "name": "python",
   "nbconvert_exporter": "python",
   "pygments_lexer": "ipython3",
   "version": "3.11.4"
  }
 },
 "nbformat": 4,
 "nbformat_minor": 2
}

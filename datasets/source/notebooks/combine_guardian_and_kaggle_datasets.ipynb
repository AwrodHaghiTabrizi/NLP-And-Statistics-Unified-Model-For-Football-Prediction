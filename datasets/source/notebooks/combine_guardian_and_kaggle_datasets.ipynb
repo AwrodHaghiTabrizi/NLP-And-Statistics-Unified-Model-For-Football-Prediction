{
 "cells": [
  {
   "cell_type": "markdown",
   "metadata": {},
   "source": [
    "## Combining the Guardian and Kaggle Datasets"
   ]
  },
  {
   "cell_type": "code",
   "execution_count": 1,
   "metadata": {},
   "outputs": [],
   "source": [
    "import pandas as pd\n",
    "import chardet"
   ]
  },
  {
   "cell_type": "markdown",
   "metadata": {},
   "source": [
    "#### Load datasets"
   ]
  },
  {
   "cell_type": "code",
   "execution_count": 2,
   "metadata": {},
   "outputs": [],
   "source": [
    "guardian_dataset_cleaned_dir = f\"../processed/Guardian_Dataset_Cleaned.csv\"\n",
    "kaggle_dataset_cleaned_dir = f\"../processed/Kaggle_Dataset_Cleaned.csv\"\n",
    "\n",
    "with open(guardian_dataset_cleaned_dir, 'rb') as f:\n",
    "    encoding = chardet.detect(f.read())['encoding']\n",
    "\n",
    "guardian_df = pd.read_csv(guardian_dataset_cleaned_dir, encoding=encoding)\n",
    "kaggle_df = pd.read_csv(kaggle_dataset_cleaned_dir)"
   ]
  },
  {
   "cell_type": "markdown",
   "metadata": {},
   "source": [
    "#### Combine datasets"
   ]
  },
  {
   "cell_type": "code",
   "execution_count": 3,
   "metadata": {},
   "outputs": [],
   "source": [
    "guardian_kaggle_combined_df = pd.merge(guardian_df, kaggle_df, left_on=['Home', 'Away', 'Season'], right_on=['HomeTeam', 'AwayTeam', 'Season'], how='inner')\n",
    "guardian_kaggle_combined_df = guardian_kaggle_combined_df.drop(columns=['HomeTeam', 'AwayTeam'])"
   ]
  },
  {
   "cell_type": "code",
   "execution_count": 4,
   "metadata": {},
   "outputs": [
    {
     "name": "stdout",
     "output_type": "stream",
     "text": [
      "Combined dataset containes 1338 rows\n"
     ]
    }
   ],
   "source": [
    "nan_row_count = guardian_kaggle_combined_df.isna().any(axis=1).sum()\n",
    "total_rows = len(guardian_kaggle_combined_df)\n",
    "\n",
    "if nan_row_count > 0:\n",
    "    raise(f\"Dataset has {nan_row_count} NaN values\")\n",
    "elif total_rows == 0:\n",
    "    raise(\"Dataset is empty\")\n",
    "\n",
    "print(f\"Combined dataset containes {total_rows} rows\")"
   ]
  },
  {
   "cell_type": "markdown",
   "metadata": {},
   "source": [
    "#### Save combined dataset"
   ]
  },
  {
   "cell_type": "code",
   "execution_count": 5,
   "metadata": {},
   "outputs": [],
   "source": [
    "guardian_kaggle_combined_dataset_dir = f\"../processed/Guardian_Kaggle_Combined_Dataset.csv\"\n",
    "guardian_kaggle_combined_df.to_csv(guardian_kaggle_combined_dataset_dir, index=False, encoding=encoding)"
   ]
  },
  {
   "cell_type": "code",
   "execution_count": null,
   "metadata": {},
   "outputs": [],
   "source": []
  }
 ],
 "metadata": {
  "kernelspec": {
   "display_name": "Python 3",
   "language": "python",
   "name": "python3"
  },
  "language_info": {
   "codemirror_mode": {
    "name": "ipython",
    "version": 3
   },
   "file_extension": ".py",
   "mimetype": "text/x-python",
   "name": "python",
   "nbconvert_exporter": "python",
   "pygments_lexer": "ipython3",
   "version": "3.11.4"
  }
 },
 "nbformat": 4,
 "nbformat_minor": 2
}

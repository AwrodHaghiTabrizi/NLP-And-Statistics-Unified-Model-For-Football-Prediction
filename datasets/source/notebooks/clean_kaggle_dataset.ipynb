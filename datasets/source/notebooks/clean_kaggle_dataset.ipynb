{
 "cells": [
  {
   "cell_type": "markdown",
   "metadata": {},
   "source": [
    "## Cleaning Kaggle Dataset\n",
    "\n",
    "The Kaggle datset containts match data with relevant statistics from both home and away teams"
   ]
  },
  {
   "cell_type": "code",
   "execution_count": 1,
   "metadata": {},
   "outputs": [],
   "source": [
    "import pandas as pd\n",
    "import json"
   ]
  },
  {
   "cell_type": "markdown",
   "metadata": {},
   "source": [
    "#### Load dataset"
   ]
  },
  {
   "cell_type": "code",
   "execution_count": 2,
   "metadata": {},
   "outputs": [],
   "source": [
    "kaggle_original_dataset_dir = f\"../original/Kaggle_Dataset.csv\"\n",
    "kaggle_df = pd.read_csv(kaggle_original_dataset_dir, encoding='ISO-8859-1')\n"
   ]
  },
  {
   "cell_type": "markdown",
   "metadata": {},
   "source": [
    "#### Standardize the team names in the dataset"
   ]
  },
  {
   "cell_type": "code",
   "execution_count": 3,
   "metadata": {},
   "outputs": [],
   "source": [
    "standardized_team_names_dir = f\"../resources/standardized_team_names.json\"\n",
    "with open(standardized_team_names_dir, 'r') as file:\n",
    "    standardized_team_names = json.load(file)"
   ]
  },
  {
   "cell_type": "code",
   "execution_count": 4,
   "metadata": {},
   "outputs": [],
   "source": [
    "def standardize_team_name(name, standardized_names):\n",
    "    for standard_name, variations in standardized_names.items():\n",
    "        if name in variations:\n",
    "            return standard_name\n",
    "    return name"
   ]
  },
  {
   "cell_type": "code",
   "execution_count": 5,
   "metadata": {},
   "outputs": [],
   "source": [
    "kaggle_df['HomeTeam'] = kaggle_df['HomeTeam'].apply(lambda x: standardize_team_name(x, standardized_team_names))\n",
    "kaggle_df['AwayTeam'] = kaggle_df['AwayTeam'].apply(lambda x: standardize_team_name(x, standardized_team_names))"
   ]
  },
  {
   "cell_type": "markdown",
   "metadata": {},
   "source": [
    "#### Remove rows with missing data"
   ]
  },
  {
   "cell_type": "code",
   "execution_count": 6,
   "metadata": {},
   "outputs": [
    {
     "name": "stdout",
     "output_type": "stream",
     "text": [
      "Removed 2824 rows from dataset, reducing size by 25.41%\n"
     ]
    }
   ],
   "source": [
    "nan_row_count = kaggle_df.isna().any(axis=1).sum()\n",
    "total_rows = len(kaggle_df)\n",
    "\n",
    "kaggle_df = kaggle_df.dropna()\n",
    "\n",
    "nan_row_count_after_drop = kaggle_df.isna().any(axis=1).sum()\n",
    "total_rows_after_drop = len(kaggle_df)\n",
    "\n",
    "if nan_row_count != total_rows - total_rows_after_drop:\n",
    "    raise(\"Error: NaN values were not removed.\")\n",
    "elif nan_row_count_after_drop != 0:\n",
    "    raise(\"Error: NaN values still present.\")\n",
    "\n",
    "print(f\"Removed {nan_row_count} rows from dataset, reducing size by {nan_row_count/total_rows*100:.2f}%\")"
   ]
  },
  {
   "cell_type": "markdown",
   "metadata": {},
   "source": [
    "#### Save cleaned dataset"
   ]
  },
  {
   "cell_type": "code",
   "execution_count": 7,
   "metadata": {},
   "outputs": [],
   "source": [
    "kaggle_dataset_cleaned_dir = f\"../processed/Kaggle_Dataset_Cleaned.csv\"\n",
    "kaggle_df.to_csv(kaggle_dataset_cleaned_dir, index=False)"
   ]
  }
 ],
 "metadata": {
  "kernelspec": {
   "display_name": "Python 3",
   "language": "python",
   "name": "python3"
  },
  "language_info": {
   "codemirror_mode": {
    "name": "ipython",
    "version": 3
   },
   "file_extension": ".py",
   "mimetype": "text/x-python",
   "name": "python",
   "nbconvert_exporter": "python",
   "pygments_lexer": "ipython3",
   "version": "3.11.4"
  }
 },
 "nbformat": 4,
 "nbformat_minor": 2
}

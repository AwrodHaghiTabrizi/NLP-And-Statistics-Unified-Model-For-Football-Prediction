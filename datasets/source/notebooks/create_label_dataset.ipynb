{
 "cells": [
  {
   "cell_type": "markdown",
   "metadata": {},
   "source": [
    "## Create Label Dataset\n",
    "\n",
    "This dataset will solely contain the match outcome in label form (0 = home win, 1 = draw, 2 = away win)"
   ]
  },
  {
   "cell_type": "code",
   "execution_count": 1,
   "metadata": {},
   "outputs": [],
   "source": [
    "import pandas as pd\n",
    "import chardet"
   ]
  },
  {
   "cell_type": "markdown",
   "metadata": {},
   "source": [
    "#### Load dataset"
   ]
  },
  {
   "cell_type": "code",
   "execution_count": 2,
   "metadata": {},
   "outputs": [],
   "source": [
    "guardian_kaggle_combined_dataset_dir = f\"../processed/Guardian_Kaggle_Combined_Dataset.csv\"\n",
    "\n",
    "with open(guardian_kaggle_combined_dataset_dir, 'rb') as f:\n",
    "    encoding = chardet.detect(f.read())['encoding']\n",
    "\n",
    "guardian_kaggle_combined_df = pd.read_csv(guardian_kaggle_combined_dataset_dir, encoding=encoding)"
   ]
  },
  {
   "cell_type": "markdown",
   "metadata": {},
   "source": [
    "#### Create dataset"
   ]
  },
  {
   "cell_type": "code",
   "execution_count": 3,
   "metadata": {},
   "outputs": [],
   "source": [
    "guardian_kaggle_combined_df['label'] = guardian_kaggle_combined_df['FTR'].apply(lambda x: 0 if x == 'H' else 1 if x == 'D' else 2 if x == 'A' else None)\n",
    "\n",
    "label_nan_count = guardian_kaggle_combined_df['label'].isna().sum()\n",
    "if label_nan_count > 0:\n",
    "    raise(f\"Error: {label_nan_count} NaN values found in 'label' column\")\n",
    "\n",
    "label_df = guardian_kaggle_combined_df[['MatchID', 'label']]"
   ]
  },
  {
   "cell_type": "markdown",
   "metadata": {},
   "source": [
    "#### Save cleaned dataset"
   ]
  },
  {
   "cell_type": "code",
   "execution_count": 4,
   "metadata": {},
   "outputs": [],
   "source": [
    "label_dataset_dir = f\"../processed/Label_Dataset.csv\"\n",
    "label_df.to_csv(label_dataset_dir, index=False)"
   ]
  }
 ],
 "metadata": {
  "kernelspec": {
   "display_name": "Python 3",
   "language": "python",
   "name": "python3"
  },
  "language_info": {
   "codemirror_mode": {
    "name": "ipython",
    "version": 3
   },
   "file_extension": ".py",
   "mimetype": "text/x-python",
   "name": "python",
   "nbconvert_exporter": "python",
   "pygments_lexer": "ipython3",
   "version": "3.11.4"
  }
 },
 "nbformat": 4,
 "nbformat_minor": 2
}

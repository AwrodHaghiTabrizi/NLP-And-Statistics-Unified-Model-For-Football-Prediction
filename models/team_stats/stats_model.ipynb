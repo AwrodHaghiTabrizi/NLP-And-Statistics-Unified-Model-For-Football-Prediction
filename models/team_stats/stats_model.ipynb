{
 "cells": [
  {
   "cell_type": "code",
   "execution_count": 1,
   "metadata": {},
   "outputs": [],
   "source": [
    "import numpy as np\n",
    "import pandas as pd\n",
    "import matplotlib.pyplot as plt\n",
    "from sklearn.preprocessing import LabelEncoder\n",
    "from sklearn.model_selection import cross_val_score, KFold\n",
    "from sklearn.metrics import accuracy_score, recall_score, precision_score, f1_score\n",
    "import xgboost as xgb\n",
    "from sklearn.linear_model import LogisticRegression\n",
    "from sklearn.ensemble import RandomForestClassifier\n",
    "\n",
    "from torch.utils.data import DataLoader, TensorDataset\n",
    "import torch\n",
    "import torch.nn as nn\n",
    "import torch.optim as optim\n",
    "\n",
    "from sklearn.svm import SVC\n"
   ]
  },
  {
   "cell_type": "code",
   "execution_count": 2,
   "metadata": {},
   "outputs": [
    {
     "name": "stdout",
     "output_type": "stream",
     "text": [
      "Index(['MatchID', 'Season', 'Home', 'Away', 'FTR', 'HomeTeam_WinPercentage',\n",
      "       'HomeTeam_DrawPercentage', 'AwayTeam_WinPercentage',\n",
      "       'AwayTeam_DrawPercentage', 'HomeTeam_Streak', 'AwayTeam_Streak',\n",
      "       'HomeTeam_AvgGoal', 'AwayTeam_AvgGoal', 'HomeTeam_AvgGoalDiff',\n",
      "       'AwayTeam_AvgGoalDiff', 'HomeTeam_AvgShotOnTarget',\n",
      "       'AwayTeam_AvgShotOnTarget', 'HomeTeam_AvgShotBlock',\n",
      "       'AwayTeam_AvgShotBlock', 'HomeTeam_AvgCorners', 'AwayTeam_AvgCorners',\n",
      "       'HomeTeam_AvgRedCards', 'AwayTeam_AvgRedCards',\n",
      "       'HomeTeam_AvgYellowCards', 'AwayTeam_AvgYellowCards',\n",
      "       'HomeTeam_H2H_Wins', 'AwayTeam_H2H_Wins', 'HomeTeam_Last_Season',\n",
      "       'AwayTeam_Last_Season', 'Time_Weight', 'Text'],\n",
      "      dtype='object')\n",
      "{'A': 0, 'D': 1, 'H': 2}\n"
     ]
    }
   ],
   "source": [
    "filename = '../../legacy/EPL_Dataset/Final_Data.csv'\n",
    "data = pd.read_csv(filename)\n",
    "\n",
    "print(data.columns)\n",
    "\n",
    "# Label Encoding\n",
    "label_encoder = LabelEncoder()\n",
    "data['FTR'] = label_encoder.fit_transform(data['FTR'])\n",
    "\n",
    "label_mapping = dict(zip(label_encoder.classes_, label_encoder.transform(label_encoder.classes_)))\n",
    "print(label_mapping)\n",
    "\n",
    "# Feature Selection\n",
    "X = data.drop(columns=['Season', 'Home', 'Away', 'FTR', 'Time_Weight', 'Text'])  # Drop unnecessary columns\n",
    "y = data['FTR']\n",
    "\n",
    "# Train-Validation-Test Split based on time\n",
    "train_split = int(len(X) * 0.7)\n",
    "val_split = int(len(X) * 0.85)\n",
    "\n",
    "X_train, X_val, X_test = X.iloc[:train_split], X.iloc[train_split:val_split], X.iloc[val_split:]\n",
    "y_train, y_val, y_test = y.iloc[:train_split], y.iloc[train_split:val_split], y.iloc[val_split:]\n",
    "\n",
    "random_state = 40\n",
    "val_acc = []\n",
    "test_acc = []"
   ]
  },
  {
   "cell_type": "code",
   "execution_count": 3,
   "metadata": {},
   "outputs": [
    {
     "name": "stdout",
     "output_type": "stream",
     "text": [
      "Validation Accuracy: 0.46\n",
      "Test Accuracy: 0.48\n"
     ]
    }
   ],
   "source": [
    "# SVM\n",
    "svm_model = SVC(C=1, kernel='rbf', gamma='scale', random_state=random_state)\n",
    "svm_model.fit(X_train, y_train)\n",
    "\n",
    "y_val_pred = svm_model.predict(X_val)\n",
    "val_accuracy = accuracy_score(y_val, y_val_pred)\n",
    "print(f\"Validation Accuracy: {val_accuracy:.2f}\")\n",
    "\n",
    "y_test_pred = svm_model.predict(X_test)\n",
    "test_accuracy = accuracy_score(y_test, y_test_pred)\n",
    "print(f\"Test Accuracy: {test_accuracy:.2f}\")\n",
    "\n",
    "val_acc.append(val_accuracy)\n",
    "test_acc.append(test_accuracy)\n",
    "\n",
    "accuracy = accuracy_score(y_test, y_test_pred)\n",
    "recall = recall_score(y_test, y_test_pred, average='weighted')\n",
    "precision = precision_score(y_test, y_test_pred, average='weighted', zero_division=0)\n",
    "f1 = f1_score(y_test, y_test_pred, average='weighted')\n",
    "metrics_svm = [accuracy, recall, precision, f1]\n"
   ]
  },
  {
   "cell_type": "code",
   "execution_count": 4,
   "metadata": {},
   "outputs": [
    {
     "name": "stdout",
     "output_type": "stream",
     "text": [
      "Validation Accuracy: 0.60\n",
      "Test Accuracy: 0.57\n"
     ]
    }
   ],
   "source": [
    "# XGB\n",
    "\n",
    "alpha = 0.6\n",
    "weights = alpha ** (1 - data['Time_Weight'])\n",
    "\n",
    "model = xgb.XGBClassifier(objective='multi:softmax',\n",
    "                          num_class=3,\n",
    "                          n_estimators=100,\n",
    "                          learning_rate=0.1,\n",
    "                          max_depth=5,\n",
    "                          random_state=random_state)\n",
    "\n",
    "\n",
    "# Model Fitting on Training Set\n",
    "model.fit(X_train, y_train, sample_weight=weights.loc[y_train.index].values)\n",
    "\n",
    "y_val_pred = model.predict(X_val)\n",
    "val_accuracy = accuracy_score(y_val, y_val_pred)\n",
    "print(f'Validation Accuracy: {val_accuracy:.2f}')\n",
    "\n",
    "y_test_pred = model.predict(X_test)\n",
    "test_accuracy = accuracy_score(y_test, y_test_pred)\n",
    "print(f'Test Accuracy: {test_accuracy:.2f}')\n",
    "\n",
    "val_acc.append(val_accuracy)\n",
    "test_acc.append(test_accuracy)\n",
    "\n",
    "accuracy = accuracy_score(y_test, y_test_pred)\n",
    "recall = recall_score(y_test, y_test_pred, average='weighted')\n",
    "precision = precision_score(y_test, y_test_pred, average='weighted')\n",
    "f1 = f1_score(y_test, y_test_pred, average='weighted')\n",
    "metrics_xgb = [accuracy, recall, precision, f1]"
   ]
  },
  {
   "cell_type": "code",
   "execution_count": 5,
   "metadata": {},
   "outputs": [
    {
     "name": "stdout",
     "output_type": "stream",
     "text": [
      "Validation Accuracy: 0.63\n",
      "Test Accuracy: 0.57\n"
     ]
    }
   ],
   "source": [
    "# Random Forest\n",
    "model = RandomForestClassifier(\n",
    "    n_estimators=100,\n",
    "    max_depth=20,\n",
    "    random_state=random_state\n",
    ")\n",
    "\n",
    "model.fit(X_train, y_train)\n",
    "y_val_pred = model.predict(X_val)\n",
    "val_accuracy = accuracy_score(y_val, y_val_pred)\n",
    "print(f'Validation Accuracy: {val_accuracy:.2f}')\n",
    "\n",
    "y_pred_rf = model.predict(X_test)\n",
    "test_accuracy = accuracy_score(y_test, y_pred_rf)\n",
    "print(f'Test Accuracy: {test_accuracy:.2f}')\n",
    "\n",
    "val_acc.append(val_accuracy)\n",
    "test_acc.append(test_accuracy)\n",
    "\n",
    "accuracy = accuracy_score(y_test, y_pred_rf)\n",
    "recall = recall_score(y_test, y_pred_rf, average='weighted')\n",
    "precision = precision_score(y_test, y_pred_rf, average='weighted')\n",
    "f1 = f1_score(y_test, y_pred_rf, average='weighted')\n",
    "metrics_rf = [accuracy, recall, precision, f1]\n",
    "\n",
    "                             "
   ]
  },
  {
   "cell_type": "code",
   "execution_count": 6,
   "metadata": {},
   "outputs": [
    {
     "name": "stdout",
     "output_type": "stream",
     "text": [
      "Validation Accuracy: 0.62\n",
      "Test Accuracy: 0.64\n"
     ]
    }
   ],
   "source": [
    "# Logistic Regression\n",
    "model = LogisticRegression(max_iter=2000, random_state=random_state)\n",
    "\n",
    "model.fit(X_train, y_train)\n",
    "\n",
    "y_val_pred = model.predict(X_val)\n",
    "val_accuracy = accuracy_score(y_val, y_val_pred)\n",
    "print(f'Validation Accuracy: {val_accuracy:.2f}')\n",
    "\n",
    "y_test_pred = model.predict(X_test)\n",
    "test_accuracy = accuracy_score(y_test, y_test_pred)\n",
    "print(f'Test Accuracy: {test_accuracy:.2f}')\n",
    "\n",
    "val_acc.append(val_accuracy)\n",
    "test_acc.append(test_accuracy)\n",
    "\n",
    "accuracy = accuracy_score(y_test, y_test_pred)\n",
    "recall = recall_score(y_test, y_test_pred, average='weighted')\n",
    "precision = precision_score(y_test, y_test_pred, average='weighted')\n",
    "f1 = f1_score(y_test, y_test_pred, average='weighted')\n",
    "metrics_lr = [accuracy, recall, precision, f1]"
   ]
  },
  {
   "cell_type": "code",
   "execution_count": 7,
   "metadata": {},
   "outputs": [
    {
     "name": "stdout",
     "output_type": "stream",
     "text": [
      "Validation Accuracy: 0.62\n",
      "Neural Network Test Accuracy: 0.48\n"
     ]
    }
   ],
   "source": [
    "# Neural Network\n",
    "# Convert pre-split datasets to PyTorch tensors\n",
    "X_train_tensor = torch.tensor(X_train.values, dtype=torch.float32)\n",
    "X_val_tensor = torch.tensor(X_val.values, dtype=torch.float32)\n",
    "X_test_tensor = torch.tensor(X_test.values, dtype=torch.float32)\n",
    "y_train_tensor = torch.tensor(y_train.values, dtype=torch.long)\n",
    "y_val_tensor = torch.tensor(y_val.values, dtype=torch.long)\n",
    "y_test_tensor = torch.tensor(y_test.values, dtype=torch.long)\n",
    "\n",
    "# Create DataLoader\n",
    "train_dataset = TensorDataset(X_train_tensor, y_train_tensor)\n",
    "train_loader = DataLoader(train_dataset, batch_size=16, shuffle=True)\n",
    "\n",
    "val_dataset = TensorDataset(X_val_tensor, y_val_tensor)\n",
    "val_loader = DataLoader(val_dataset, batch_size=16, shuffle=False)\n",
    "\n",
    "# Neural Network Model Definition\n",
    "class NeuralNetwork(nn.Module):\n",
    "    def __init__(self, input_size, num_classes):\n",
    "        super(NeuralNetwork, self).__init__()\n",
    "        self.fc1 = nn.Linear(input_size, 128)\n",
    "        self.dropout1 = nn.Dropout(0.3)\n",
    "        self.fc2 = nn.Linear(128, 64)\n",
    "        self.dropout2 = nn.Dropout(0.3)\n",
    "        self.fc3 = nn.Linear(64, num_classes)\n",
    "\n",
    "    def forward(self, x):\n",
    "        x = torch.relu(self.fc1(x))\n",
    "        x = self.dropout1(x)\n",
    "        x = torch.relu(self.fc2(x))\n",
    "        x = self.dropout2(x)\n",
    "        x = torch.softmax(self.fc3(x), dim=1)\n",
    "        return x\n",
    "\n",
    "# Model Initialization\n",
    "input_size = X_train.shape[1]\n",
    "num_classes = len(y_train.unique())\n",
    "model = NeuralNetwork(input_size, num_classes)\n",
    "\n",
    "# Loss and Optimizer\n",
    "criterion = nn.CrossEntropyLoss()\n",
    "optimizer = optim.Adam(model.parameters(), lr=0.001)\n",
    "\n",
    "# Training the Model\n",
    "epochs = 200\n",
    "val_accuracy_nn = 0\n",
    "for epoch in range(epochs):\n",
    "    model.train()\n",
    "    train_loss = 0\n",
    "    for data, target in train_loader:\n",
    "        # Forward pass\n",
    "        outputs = model(data)\n",
    "        loss = criterion(outputs, target)\n",
    "\n",
    "        # Backward pass and optimization\n",
    "        optimizer.zero_grad()\n",
    "        loss.backward()\n",
    "        optimizer.step()\n",
    "\n",
    "        train_loss += loss.item()\n",
    "\n",
    "    # Evaluate on validation set\n",
    "    model.eval()\n",
    "    val_loss = 0\n",
    "    correct = 0\n",
    "    total = 0\n",
    "    with torch.no_grad():\n",
    "        for data, target in val_loader:\n",
    "            outputs = model(data)\n",
    "            loss = criterion(outputs, target)\n",
    "            val_loss += loss.item()\n",
    "            _, predicted = torch.max(outputs, 1)\n",
    "            total += target.size(0)\n",
    "            correct += (predicted == target).sum().item()\n",
    "\n",
    "    val_accuracy_nn = correct / total\n",
    "    # print(f'Epoch [{epoch+1}/{epochs}], Train Loss: {train_loss/len(train_loader):.4f}, '\n",
    "    #       f'Validation Loss: {val_loss/len(val_loader):.4f}, Validation Accuracy: {val_accuracy:.4f}')\n",
    "\n",
    "print(f'Validation Accuracy: {val_accuracy:.2f}')\n",
    "# Evaluate the Model on Test Set\n",
    "model.eval()\n",
    "with torch.no_grad():\n",
    "    y_pred_nn = model(X_test_tensor)\n",
    "    y_pred_nn_classes = torch.argmax(y_pred_nn, axis=1).numpy()\n",
    "\n",
    "# Test Accuracy\n",
    "accuracy_nn = accuracy_score(y_test, y_pred_nn_classes)\n",
    "print(f'Neural Network Test Accuracy: {accuracy_nn:.2f}')\n",
    "\n",
    "val_acc.append(val_accuracy_nn)\n",
    "test_acc.append(accuracy_nn)\n",
    "\n",
    "accuracy = accuracy_score(y_test, y_pred_nn_classes)\n",
    "recall = recall_score(y_test, y_pred_nn_classes, average='weighted')\n",
    "precision = precision_score(y_test, y_pred_nn_classes, average='weighted', zero_division=0)\n",
    "f1 = f1_score(y_test, y_pred_nn_classes, average='weighted')\n",
    "metrics_nn = [accuracy, recall, precision, f1]"
   ]
  },
  {
   "cell_type": "code",
   "execution_count": 17,
   "metadata": {},
   "outputs": [
    {
     "data": {
      "image/png": "[encoded data removed]",
      "text/plain": [
       "<Figure size 800x500 with 1 Axes>"
      ]
     },
     "metadata": {},
     "output_type": "display_data"
    },
    {
     "name": "stdout",
     "output_type": "stream",
     "text": [
      "            0       1          2         3\n",
      "     Accuracy  Recall  Precision  F1 Score\n",
      "SVM     0.478   0.478      0.228     0.309\n",
      "XGB     0.567   0.567      0.557     0.538\n",
      "RF      0.572   0.572      0.553     0.522\n",
      "LR      0.637   0.637      0.602      0.59\n",
      "NN      0.478   0.478      0.228     0.309\n"
     ]
    }
   ],
   "source": [
    "# val_acc is the validation accuracy\n",
    "# test_acc is the test accuracy\n",
    "# metrics_df is the prediction metrics\n",
    "\n",
    "methods = [\"SVM\", \"XGB\", \"RF\", \"LR\", \"NN\"]\n",
    "\n",
    "\n",
    "bar_width = 0.3\n",
    "x = np.arange(len(methods))\n",
    "\n",
    "plt.figure(figsize=(8, 5))\n",
    "plt.bar(x - bar_width/2, val_acc, width=bar_width, label=\"Validation\")\n",
    "plt.bar(x + bar_width/2, test_acc, width=bar_width, label=\"Test\")\n",
    "\n",
    "\n",
    "plt.xlabel('')\n",
    "plt.ylabel(\"accuracy\")\n",
    "#plt.title(\"Statistical Dataset Modeling\")\n",
    "plt.xticks(x, methods)\n",
    "plt.legend()\n",
    "\n",
    "plt.ylim(0.4, 0.66)\n",
    "\n",
    "plt.show()\n",
    "\n",
    "metrics = {\n",
    "    '': ['Accuracy', 'Recall', 'Precision', 'F1 Score'],\n",
    "    'SVM': [round(num, 3) for num in metrics_svm],\n",
    "    'XGB': [round(num, 3) for num in metrics_xgb],\n",
    "    'RF': [round(num, 3) for num in metrics_rf],\n",
    "    'LR': [round(num, 3) for num in metrics_lr],\n",
    "    'NN': [round(num, 3) for num in metrics_nn]\n",
    "\n",
    "}\n",
    "metrics_df = pd.DataFrame(metrics).T\n",
    "\n",
    "print(metrics_df)\n",
    "\n",
    "\n"
   ]
  }
 ],
 "metadata": {
  "kernelspec": {
   "display_name": "base",
   "language": "python",
   "name": "python3"
  },
  "language_info": {
   "codemirror_mode": {
    "name": "ipython",
    "version": 3
   },
   "file_extension": ".py",
   "mimetype": "text/x-python",
   "name": "python",
   "nbconvert_exporter": "python",
   "pygments_lexer": "ipython3",
   "version": "3.10.9"
  }
 },
 "nbformat": 4,
 "nbformat_minor": 2
}

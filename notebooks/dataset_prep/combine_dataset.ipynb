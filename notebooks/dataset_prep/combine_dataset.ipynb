{
 "cells": [
  {
   "cell_type": "code",
   "execution_count": 1,
   "metadata": {},
   "outputs": [],
   "source": [
    "import pandas as pd"
   ]
  },
  {
   "cell_type": "code",
   "execution_count": 2,
   "metadata": {},
   "outputs": [
    {
     "name": "stdout",
     "output_type": "stream",
     "text": [
      "   MatchID              Home         Away                       Date   Season  \\\n",
      "0        0           Swansea        Stoke  Fri 11 May 2018 17.23 BST  2017-18   \n",
      "1        1  Newcastle United      Chelsea  Fri 11 May 2018 17.06 BST  2017-18   \n",
      "2        2         Tottenham    Leicester  Fri 11 May 2018 16.43 BST  2017-18   \n",
      "3        3         Liverpool     Brighton  Fri 11 May 2018 16.33 BST  2017-18   \n",
      "4        4           Burnley  Bournemouth  Fri 11 May 2018 16.23 BST  2017-18   \n",
      "\n",
      "                                                Text  \n",
      "0  A match many thought would have so much riding...  \n",
      "1  The consensus suggests this will be Antonio Co...  \n",
      "2  Leicester’s 3-1 win over Arsenal on Wednesday ...  \n",
      "3  Complaints over Liverpool’s recent league form...  \n",
      "4  Burnley are looking for their first win in fiv...  \n"
     ]
    }
   ],
   "source": [
    "guardian_dataset_dir = f\"../../datasets/original/Guardian_Dataset.csv\"\n",
    "guardian_df = pd.read_csv(guardian_dataset_dir)\n",
    "print(guardian_df.head())\n"
   ]
  },
  {
   "cell_type": "code",
   "execution_count": 3,
   "metadata": {},
   "outputs": [
    {
     "name": "stdout",
     "output_type": "stream",
     "text": [
      "   MatchID     Home   Away                       Date   Season  \\\n",
      "0        0  Swansea  Stoke  Fri 11 May 2018 17.23 BST  2017-18   \n",
      "\n",
      "                                                Text  \n",
      "0  A match many thought would have so much riding...  \n"
     ]
    }
   ],
   "source": [
    "game = guardian_df[(guardian_df['Home'] == 'Swansea') & (guardian_df['Away'] == 'Stoke') & (guardian_df['Season'] == '2017-18')]\n",
    "print(game)"
   ]
  },
  {
   "cell_type": "code",
   "execution_count": 4,
   "metadata": {},
   "outputs": [
    {
     "name": "stdout",
     "output_type": "stream",
     "text": [
      "    Season              DateTime     HomeTeam        AwayTeam  FTHG  FTAG FTR  \\\n",
      "0  1993-94  1993-08-14T00:00:00Z      Arsenal        Coventry     0     3   A   \n",
      "1  1993-94  1993-08-14T00:00:00Z  Aston Villa             QPR     4     1   H   \n",
      "2  1993-94  1993-08-14T00:00:00Z      Chelsea       Blackburn     1     2   A   \n",
      "3  1993-94  1993-08-14T00:00:00Z    Liverpool  Sheffield Weds     2     0   H   \n",
      "4  1993-94  1993-08-14T00:00:00Z     Man City           Leeds     1     1   D   \n",
      "\n",
      "   HTHG  HTAG  HTR  ... HST  AST  HC  AC  HF  AF  HY  AY  HR  AR  \n",
      "0   NaN   NaN  NaN  ... NaN  NaN NaN NaN NaN NaN NaN NaN NaN NaN  \n",
      "1   NaN   NaN  NaN  ... NaN  NaN NaN NaN NaN NaN NaN NaN NaN NaN  \n",
      "2   NaN   NaN  NaN  ... NaN  NaN NaN NaN NaN NaN NaN NaN NaN NaN  \n",
      "3   NaN   NaN  NaN  ... NaN  NaN NaN NaN NaN NaN NaN NaN NaN NaN  \n",
      "4   NaN   NaN  NaN  ... NaN  NaN NaN NaN NaN NaN NaN NaN NaN NaN  \n",
      "\n",
      "[5 rows x 23 columns]\n"
     ]
    }
   ],
   "source": [
    "kaggle_dataset_dir = f\"../../datasets/original/Kaggle_Dataset.csv\"\n",
    "kaggle_df = pd.read_csv(kaggle_dataset_dir, encoding='ISO-8859-1')\n",
    "print(kaggle_df.head())\n"
   ]
  },
  {
   "cell_type": "code",
   "execution_count": 5,
   "metadata": {},
   "outputs": [],
   "source": [
    "standardized_team_names = {\n",
    "    \"AFC Bournemouth\": [\"Bournemouth\"],\n",
    "    \"Birmingham City\": [\"Birmingham\"],\n",
    "    \"Blackburn Rovers\": [\"Blackburn\"],\n",
    "    \"Bolton Wanderers\": [\"Bolton\"],\n",
    "    \"Bradford City\": [\"Bradford\"],\n",
    "    \"Brighton & Hove Albion\": [\"Brighton\"],\n",
    "    \"Cardiff City\": [\"Cardiff\"],\n",
    "    \"Charlton Athletic\": [\"Charlton\"],\n",
    "    \"Coventry City\": [\"Coventry\"],\n",
    "    \"Crystal Palace\": [\"Palace\"],\n",
    "    \"Derby County\": [\"Derby\"],\n",
    "    \"Huddersfield Town\": [\"Huddersfield\"],\n",
    "    \"Hull City\": [\"Hull\"],\n",
    "    \"Ipswich Town\": [\"Ipswich\"],\n",
    "    \"Leeds United\": [\"Leeds Utd\", \"Leeds\"],\n",
    "    \"Leicester City\": [\"Leicester\"],\n",
    "    \"Manchester City\": [\"Man City\", \"Manchester city\"],\n",
    "    \"Manchester United\": [\"Man Utd\", \"Man United\"],\n",
    "    \"Newcastle United\": [\"Newcastle Utd\"],\n",
    "    \"Norwich City\": [\"Norwich\"],\n",
    "    \"Nottingham Forest\": [\"Nott'm Forest\", \"Nottingham\"],\n",
    "    \"Oldham Athletic\": [\"Oldham\"],\n",
    "    \"Portsmouth\": [\"Pompey\"],\n",
    "    \"Queens Park Rangers\": [\"QPR\"],\n",
    "    \"Sheffield United\": [\"Sheff Utd\"],\n",
    "    \"Sheffield Wednesday\": [\"Sheff Wed\", \"Sheffield Weds\"],\n",
    "    \"Stoke City\": [\"Stoke\"],\n",
    "    \"Swansea City\": [\"Swansea\"],\n",
    "    \"Tottenham Hotspur\": [\"Tottenham\", \"Tottenham Hostpur\", \"Spurs\"],\n",
    "    \"West Bromwich Albion\": [\"West Brom\", \"West Bromwich\"],\n",
    "    \"West Ham United\": [\"West Ham\"],\n",
    "    \"Wigan Athletic\": [\"Wigan\"],\n",
    "    \"Wolverhampton Wanderers\": [\"Wolves\"],\n",
    "}\n",
    "\n",
    "def standardize_team_name(name, standardized_names):\n",
    "    for standard_name, variations in standardized_names.items():\n",
    "        if name in variations:\n",
    "            return standard_name\n",
    "    return name\n",
    "\n",
    "guardian_df['Home'] = guardian_df['Home'].apply(lambda x: standardize_team_name(x, standardized_team_names))\n",
    "guardian_df['Away'] = guardian_df['Away'].apply(lambda x: standardize_team_name(x, standardized_team_names))\n",
    "\n",
    "kaggle_df['HomeTeam'] = kaggle_df['HomeTeam'].apply(lambda x: standardize_team_name(x, standardized_team_names))\n",
    "kaggle_df['AwayTeam'] = kaggle_df['AwayTeam'].apply(lambda x: standardize_team_name(x, standardized_team_names))"
   ]
  },
  {
   "cell_type": "code",
   "execution_count": 6,
   "metadata": {},
   "outputs": [
    {
     "name": "stdout",
     "output_type": "stream",
     "text": [
      "Guardian Team Names:\n",
      "['AFC Bournemouth', 'Arsenal', 'Aston Villa', 'Birmingham City', 'Blackburn Rovers', 'Bolton Wanderers', 'Bradford City', 'Brighton & Hove Albion', 'Bristol City', 'Burnley', 'Bury', 'Cardiff City', 'Carlisle United', 'Charlton Athletic', 'Chelsea', 'Chesterfield', 'Club Brugge', 'Colchester United', 'Coventry City', 'Crystal Palace', 'Derby County', 'Dinamo Zagreb', 'Everton', 'Fulham', 'Huddersfield Town', 'Hull City', 'Juventus', 'Leeds United', 'Leicester City', 'Lincoln City', 'Liverpool', 'MK Dons', 'Maccabi Tel Aviv', 'Manchester City', 'Manchester United', 'Middlesbrough', 'Millwall', 'Newcastle', 'Newcastle United', 'Norwich City', 'Nottingham Forest', 'Oxford United', 'PSV Eindhoven', 'Peterborough United', 'Portsmouth', 'Preston North End', 'Queens Park Rangers', 'Reading', 'Rochdale', 'Sheffield United', 'Sheffield Wednesday', 'Shrewsbury Town', 'Southampton', 'Stoke City', 'Sunderland', 'Sutton United', 'Swansea City', 'Tottenham Hotspur', 'Walsall', 'Watford', 'West Bromwich Albion', 'West Ham United', 'Wigan Athletic', 'Wolverhampton Wanderers']\n",
      "\n",
      "Kaggle Team Names:\n",
      "['AFC Bournemouth', 'Arsenal', 'Aston Villa', 'Barnsley', 'Birmingham City', 'Blackburn Rovers', 'Blackpool', 'Bolton Wanderers', 'Bradford City', 'Brentford', 'Brighton & Hove Albion', 'Burnley', 'Cardiff City', 'Charlton Athletic', 'Chelsea', 'Coventry City', 'Crystal Palace', 'Derby County', 'Everton', 'Fulham', 'Huddersfield Town', 'Hull City', 'Ipswich Town', 'Leeds United', 'Leicester City', 'Liverpool', 'Manchester City', 'Manchester United', 'Middlesbrough', 'Newcastle', 'Norwich City', 'Nottingham Forest', 'Oldham Athletic', 'Portsmouth', 'Queens Park Rangers', 'Reading', 'Sheffield United', 'Sheffield Wednesday', 'Southampton', 'Stoke City', 'Sunderland', 'Swansea City', 'Swindon', 'Tottenham Hotspur', 'Watford', 'West Bromwich Albion', 'West Ham United', 'Wigan Athletic', 'Wimbledon', 'Wolverhampton Wanderers']\n",
      "\n",
      "Teams in Guardian but not in Kaggle:\n",
      "['Bristol City', 'Bury', 'Carlisle United', 'Chesterfield', 'Club Brugge', 'Colchester United', 'Dinamo Zagreb', 'Juventus', 'Lincoln City', 'MK Dons', 'Maccabi Tel Aviv', 'Millwall', 'Newcastle United', 'Oxford United', 'PSV Eindhoven', 'Peterborough United', 'Preston North End', 'Rochdale', 'Shrewsbury Town', 'Sutton United', 'Walsall']\n",
      "\n",
      "Teams in Kaggle but not in Guardian:\n",
      "['Barnsley', 'Blackpool', 'Brentford', 'Ipswich Town', 'Oldham Athletic', 'Swindon', 'Wimbledon']\n"
     ]
    }
   ],
   "source": [
    "guardian_teams = set(guardian_df['Home']).union(set(guardian_df['Away']))\n",
    "print(f\"Guardian Team Names:\\n{sorted(guardian_teams)}\")\n",
    "\n",
    "kaggle_teams = set(kaggle_df['HomeTeam']).union(set(kaggle_df['AwayTeam']))\n",
    "print(f\"\\nKaggle Team Names:\\n{sorted(kaggle_teams)}\")\n",
    "\n",
    "guardian_not_in_kaggle = guardian_teams - kaggle_teams\n",
    "print(f\"\\nTeams in Guardian but not in Kaggle:\\n{sorted(guardian_not_in_kaggle)}\")\n",
    "\n",
    "kaggle_not_in_guardian = kaggle_teams - guardian_teams\n",
    "print(f\"\\nTeams in Kaggle but not in Guardian:\\n{sorted(kaggle_not_in_guardian)}\")"
   ]
  },
  {
   "cell_type": "code",
   "execution_count": 7,
   "metadata": {},
   "outputs": [
    {
     "name": "stdout",
     "output_type": "stream",
     "text": [
      "   MatchID               Home                    Away  \\\n",
      "0        0       Swansea City              Stoke City   \n",
      "1        1   Newcastle United                 Chelsea   \n",
      "2        2  Tottenham Hotspur          Leicester City   \n",
      "3        3          Liverpool  Brighton & Hove Albion   \n",
      "4        4            Burnley         AFC Bournemouth   \n",
      "\n",
      "                        Date   Season  \\\n",
      "0  Fri 11 May 2018 17.23 BST  2017-18   \n",
      "1  Fri 11 May 2018 17.06 BST  2017-18   \n",
      "2  Fri 11 May 2018 16.43 BST  2017-18   \n",
      "3  Fri 11 May 2018 16.33 BST  2017-18   \n",
      "4  Fri 11 May 2018 16.23 BST  2017-18   \n",
      "\n",
      "                                                Text              DateTime  \\\n",
      "0  A match many thought would have so much riding...  2018-05-13T00:00:00Z   \n",
      "1  The consensus suggests this will be Antonio Co...                   NaN   \n",
      "2  Leicester’s 3-1 win over Arsenal on Wednesday ...  2018-05-13T00:00:00Z   \n",
      "3  Complaints over Liverpool’s recent league form...  2018-05-13T00:00:00Z   \n",
      "4  Burnley are looking for their first win in fiv...  2018-05-13T00:00:00Z   \n",
      "\n",
      "   FTHG  FTAG  FTR  ...   HST  AST   HC   AC    HF    AF   HY   AY   HR   AR  \n",
      "0   1.0   2.0    A  ...  11.0  5.0  6.0  0.0  12.0   9.0  1.0  2.0  0.0  0.0  \n",
      "1   NaN   NaN  NaN  ...   NaN  NaN  NaN  NaN   NaN   NaN  NaN  NaN  NaN  NaN  \n",
      "2   5.0   4.0    H  ...   6.0  9.0  4.0  4.0   9.0  13.0  1.0  2.0  0.0  0.0  \n",
      "3   4.0   0.0    H  ...  11.0  1.0  7.0  3.0   3.0   6.0  0.0  0.0  0.0  0.0  \n",
      "4   1.0   2.0    A  ...   4.0  5.0  7.0  8.0  14.0   9.0  0.0  0.0  0.0  0.0  \n",
      "\n",
      "[5 rows x 26 columns]\n"
     ]
    }
   ],
   "source": [
    "combined_df = pd.merge(guardian_df, kaggle_df, left_on=['Home', 'Away', 'Season'], right_on=['HomeTeam', 'AwayTeam', 'Season'], how='left')\n",
    "combined_df = combined_df.drop(columns=['HomeTeam', 'AwayTeam'])\n",
    "print(combined_df.head())"
   ]
  },
  {
   "cell_type": "code",
   "execution_count": 8,
   "metadata": {},
   "outputs": [
    {
     "name": "stdout",
     "output_type": "stream",
     "text": [
      "Number of rows with at least one NaN value: 168 / 1506\n"
     ]
    }
   ],
   "source": [
    "nan_rows = combined_df.isna().any(axis=1).sum()\n",
    "total_rows = len(combined_df)\n",
    "print(f\"Number of rows with at least one NaN value: {nan_rows} / {total_rows}\")"
   ]
  },
  {
   "cell_type": "code",
   "execution_count": 9,
   "metadata": {},
   "outputs": [
    {
     "name": "stdout",
     "output_type": "stream",
     "text": [
      "Number of rows after dropping NaN values: 0 / 1338\n"
     ]
    }
   ],
   "source": [
    "combined_df = combined_df.dropna()\n",
    "total_rows = len(combined_df)\n",
    "nan_rows = combined_df.isna().any(axis=1).sum()\n",
    "print(f\"Number of rows after dropping NaN values: {nan_rows} / {total_rows}\")"
   ]
  },
  {
   "cell_type": "code",
   "execution_count": null,
   "metadata": {},
   "outputs": [],
   "source": [
    "combined_dataset_dir = f\"../../datasets/processed/Combined_Dataset.csv\"\n",
    "combined_df.to_csv(combined_dataset_dir, index=False)"
   ]
  },
  {
   "cell_type": "code",
   "execution_count": null,
   "metadata": {},
   "outputs": [],
   "source": []
  }
 ],
 "metadata": {
  "kernelspec": {
   "display_name": "Python 3",
   "language": "python",
   "name": "python3"
  },
  "language_info": {
   "codemirror_mode": {
    "name": "ipython",
    "version": 3
   },
   "file_extension": ".py",
   "mimetype": "text/x-python",
   "name": "python",
   "nbconvert_exporter": "python",
   "pygments_lexer": "ipython3",
   "version": "3.11.4"
  }
 },
 "nbformat": 4,
 "nbformat_minor": 2
}

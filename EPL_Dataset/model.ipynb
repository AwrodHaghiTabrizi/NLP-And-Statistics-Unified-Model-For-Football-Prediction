{
 "cells": [
  {
   "cell_type": "code",
   "execution_count": 10,
   "metadata": {},
   "outputs": [
    {
     "data": {
      "text/plain": [
       "Index(['Season', 'Home', 'Away', 'FTR', 'HomeTeam_WinPercentage',\n",
       "       'HomeTeam_DrawPercentage', 'AwayTeam_WinPercentage',\n",
       "       'AwayTeam_DrawPercentage', 'HomeTeam_Streak', 'AwayTeam_Streak',\n",
       "       'HomeTeam_AvgGoal', 'AwayTeam_AvgGoal', 'HomeTeam_AvgGoalDiff',\n",
       "       'AwayTeam_AvgGoalDiff', 'HomeTeam_AvgShotOnTarget',\n",
       "       'AwayTeam_AvgShotOnTarget', 'HomeTeam_AvgShotBlock',\n",
       "       'AwayTeam_AvgShotBlock', 'HomeTeam_AvgCorners', 'AwayTeam_AvgCorners',\n",
       "       'HomeTeam_AvgRedCards', 'AwayTeam_AvgRedCards',\n",
       "       'HomeTeam_AvgYellowCards', 'AwayTeam_AvgYellowCards',\n",
       "       'HomeTeam_H2H_Wins', 'AwayTeam_H2H_Wins', 'HomeTeam_Last_Season',\n",
       "       'AwayTeam_Last_Season', 'Time_Weight', 'Text'],\n",
       "      dtype='object')"
      ]
     },
     "execution_count": 10,
     "metadata": {},
     "output_type": "execute_result"
    }
   ],
   "source": [
    "# impert pytorch\n",
    "import numpy as np\n",
    "import pandas as pd\n",
    "\n",
    "filename = 'Final_Data.csv'\n",
    "data = pd.read_csv(filename)\n",
    "\n",
    "data.columns"
   ]
  },
  {
   "cell_type": "code",
   "execution_count": 16,
   "metadata": {},
   "outputs": [
    {
     "name": "stdout",
     "output_type": "stream",
     "text": [
      "{0: 0, 1: 1, 2: 2}\n",
      "Mean Cross-Validation Accuracy: 53.55%\n",
      "Accuracy: 60.82%\n",
      "Classification Report:\n",
      "              precision    recall  f1-score   support\n",
      "\n",
      "           0       0.61      0.59      0.60        80\n",
      "           1       0.46      0.17      0.24        66\n",
      "           2       0.63      0.86      0.73       122\n",
      "\n",
      "    accuracy                           0.61       268\n",
      "   macro avg       0.57      0.54      0.52       268\n",
      "weighted avg       0.58      0.61      0.57       268\n",
      "\n"
     ]
    }
   ],
   "source": [
    "import numpy as np\n",
    "import pandas as pd\n",
    "from sklearn.preprocessing import LabelEncoder\n",
    "from sklearn.model_selection import train_test_split, cross_val_score, KFold, GridSearchCV\n",
    "from sklearn.metrics import accuracy_score, classification_report\n",
    "import xgboost as xgb\n",
    "\n",
    "df = data\n",
    "\n",
    "# Label Encoding\n",
    "label_encoder = LabelEncoder()\n",
    "df['FTR'] = label_encoder.fit_transform(df['FTR'])\n",
    "\n",
    "label_mapping = dict(zip(label_encoder.classes_, label_encoder.transform(label_encoder.classes_)))\n",
    "print(label_mapping)\n",
    "\n",
    "# Calculate Time Weights\n",
    "alpha = 0.6\n",
    "weights = alpha ** (1 - df['Time_Weight'])\n",
    "\n",
    "# Prepare Features and Target\n",
    "X = df.drop(columns=['Season', 'Home', 'Away', 'FTR', 'Time_Weight', 'Text'])\n",
    "y = df['FTR']\n",
    "\n",
    "# Train-Test Split\n",
    "X_train, X_test, y_train, y_test = train_test_split(X, y, test_size=0.2, random_state=42)\n",
    "\n",
    "# XGBoost Classifier with Default Parameters\n",
    "model = xgb.XGBClassifier(objective='multi:softmax',\n",
    "                          num_class=3,\n",
    "                          n_estimators=100,\n",
    "                          learning_rate=0.1,\n",
    "                          max_depth=5,\n",
    "                          random_state=42)\n",
    "\n",
    "# Cross Validation\n",
    "kf = KFold(n_splits=5, shuffle=True, random_state=42)\n",
    "cross_val_scores = cross_val_score(model, X_train, y_train, cv=kf, scoring='accuracy')\n",
    "mean_cv_accuracy = np.mean(cross_val_scores) * 100\n",
    "print(f'Mean Cross-Validation Accuracy: {mean_cv_accuracy:.2f}%')\n",
    "\n",
    "# Model Fitting\n",
    "model.fit(X_train, y_train, sample_weight=weights.loc[y_train.index].values)\n",
    "\n",
    "# Prediction\n",
    "y_pred = model.predict(X_test)\n",
    "\n",
    "# Evaluation\n",
    "accuracy = accuracy_score(y_test, y_pred) * 100\n",
    "print(f'Accuracy: {accuracy:.2f}%')\n",
    "print('Classification Report:')\n",
    "print(classification_report(y_test, y_pred))\n",
    "\n"
   ]
  }
 ],
 "metadata": {
  "kernelspec": {
   "display_name": "base",
   "language": "python",
   "name": "python3"
  },
  "language_info": {
   "codemirror_mode": {
    "name": "ipython",
    "version": 3
   },
   "file_extension": ".py",
   "mimetype": "text/x-python",
   "name": "python",
   "nbconvert_exporter": "python",
   "pygments_lexer": "ipython3",
   "version": "3.10.9"
  }
 },
 "nbformat": 4,
 "nbformat_minor": 2
}
